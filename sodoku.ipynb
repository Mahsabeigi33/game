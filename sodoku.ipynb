{
  "nbformat": 4,
  "nbformat_minor": 0,
  "metadata": {
    "colab": {
      "provenance": [],
      "authorship_tag": "ABX9TyOsNJmoeCwmjHODFak2nNo1",
      "include_colab_link": true
    },
    "kernelspec": {
      "name": "python3",
      "display_name": "Python 3"
    },
    "language_info": {
      "name": "python"
    }
  },
  "cells": [
    {
      "cell_type": "markdown",
      "metadata": {
        "id": "view-in-github",
        "colab_type": "text"
      },
      "source": [
        "<a href=\"https://colab.research.google.com/github/Mahsabeigi33/game/blob/main/sodoku.ipynb\" target=\"_parent\"><img src=\"https://colab.research.google.com/assets/colab-badge.svg\" alt=\"Open In Colab\"/></a>"
      ]
    },
    {
      "cell_type": "code",
      "execution_count": 350,
      "metadata": {
        "id": "h-xdZ3nLmZ68"
      },
      "outputs": [],
      "source": [
        "grid = [['e','c','nan','nan','nan','nan','nan','nan','nan'],\n",
        "    ['f','nan','nan','a','i','e','nan','nan','nan'],\n",
        "    ['nan','i','h','nan','nan','nan','nan','f','nan'],\n",
        "    ['h','nan','nan','nan','f','nan','nan','nan','c'],\n",
        "    ['d','nan','nan','nan','nan','nan','nan','nan','a'],\n",
        "    ['g','nan','nan','nan','nan','nan','nan','nan','nan'],\n",
        "    ['nan','f','nan','nan','nan','nan','nan','h','nan'],\n",
        "    ['nan','nan','nan','d','a','i','nan','nan','nan'],      \n",
        "    ['nan','nan','nan','nan','h','nan','nan','nan','nan']]   "
      ]
    },
    {
      "cell_type": "code",
      "source": [
        "print(grid)"
      ],
      "metadata": {
        "colab": {
          "base_uri": "https://localhost:8080/"
        },
        "id": "S1Boqel0eEE4",
        "outputId": "0ff81c35-520b-4b7f-baaf-811294101b01"
      },
      "execution_count": 306,
      "outputs": [
        {
          "output_type": "stream",
          "name": "stdout",
          "text": [
            "[['e', 'c', 'nan', 'nan', 'nan', 'nan', 'nan', 'nan', 'nan'], ['f', 'nan', 'nan', 'a', 'i', 'e', 'nan', 'nan', 'nan'], ['nan', 'i', 'h', 'nan', 'nan', 'nan', 'nan', 'f', 'nan'], ['h', 'nan', 'nan', 'nan', 'f', 'nan', 'nan', 'nan', 'c'], ['d', 'nan', 'nan', 'nan', 'nan', 'nan', 'nan', 'nan', 'a'], ['g', 'nan', 'nan', 'nan', 'nan', 'nan', 'nan', 'nan', 'nan'], ['nan', 'f', 'nan', 'nan', 'nan', 'nan', 'nan', 'h', 'nan'], ['nan', 'nan', 'nan', 'd', 'a', 'i', 'nan', 'nan', 'nan'], ['nan', 'nan', 'nan', 'nan', 'h', 'nan', 'nan', 'nan', 'nan']]\n"
          ]
        }
      ]
    },
    {
      "cell_type": "code",
      "source": [
        "import numpy as np\n",
        "print(np.matrix(grid))"
      ],
      "metadata": {
        "colab": {
          "base_uri": "https://localhost:8080/"
        },
        "id": "nw3FPTSXme3b",
        "outputId": "ddf1108a-b867-4695-c3c5-2a9d4e8ba637"
      },
      "execution_count": 351,
      "outputs": [
        {
          "output_type": "stream",
          "name": "stdout",
          "text": [
            "[['e' 'c' 'nan' 'nan' 'nan' 'nan' 'nan' 'nan' 'nan']\n",
            " ['f' 'nan' 'nan' 'a' 'i' 'e' 'nan' 'nan' 'nan']\n",
            " ['nan' 'i' 'h' 'nan' 'nan' 'nan' 'nan' 'f' 'nan']\n",
            " ['h' 'nan' 'nan' 'nan' 'f' 'nan' 'nan' 'nan' 'c']\n",
            " ['d' 'nan' 'nan' 'nan' 'nan' 'nan' 'nan' 'nan' 'a']\n",
            " ['g' 'nan' 'nan' 'nan' 'nan' 'nan' 'nan' 'nan' 'nan']\n",
            " ['nan' 'f' 'nan' 'nan' 'nan' 'nan' 'nan' 'h' 'nan']\n",
            " ['nan' 'nan' 'nan' 'd' 'a' 'i' 'nan' 'nan' 'nan']\n",
            " ['nan' 'nan' 'nan' 'nan' 'h' 'nan' 'nan' 'nan' 'nan']]\n"
          ]
        }
      ]
    },
    {
      "cell_type": "code",
      "source": [
        "import re\n",
        " \n",
        "def convert_to_numbers():\n",
        "   \n",
        "    words_to_numbers = {\n",
        "        'a': '1',\n",
        "        'b': '2',\n",
        "        'c': '3',\n",
        "        'd': '4',\n",
        "        'e': '5',\n",
        "        'f': '6',\n",
        "        'g': '7',\n",
        "        'h': '8',\n",
        "        'i': '9',\n",
        "        'nan': '0'\n",
        "    }\n",
        "    #gridNew=np.matrix(grid)\n",
        "    pattern = re.compile(r'\\b(' + '|'.join(words_to_numbers.keys()) + r')\\b')\n",
        "    k = 0\n",
        "    number=[]\n",
        "    for row in grid:\n",
        "        i = 0\n",
        "        ar1=[]\n",
        "        for item in row:\n",
        "            i+=1 \n",
        "            convert=( re.sub(pattern, lambda x: words_to_numbers[x.group()], item))\n",
        "            ar1.append(int(convert))\n",
        "            if i ==8:\n",
        "              number.append(ar1)\n",
        "                \n",
        "        if k==8:\n",
        "          return number\n",
        "        k+=1\n"
      ],
      "metadata": {
        "id": "7mFCPrq-TYjA"
      },
      "execution_count": 352,
      "outputs": []
    },
    {
      "cell_type": "code",
      "source": [
        "gridNew=convert_to_numbers()"
      ],
      "metadata": {
        "id": "DYmjgzsLaENR"
      },
      "execution_count": 353,
      "outputs": []
    },
    {
      "cell_type": "code",
      "source": [
        "print(gridNew)"
      ],
      "metadata": {
        "colab": {
          "base_uri": "https://localhost:8080/"
        },
        "id": "WZMYzj1LahjC",
        "outputId": "de769660-36f1-44fb-8450-65f061b1d3b5"
      },
      "execution_count": 354,
      "outputs": [
        {
          "output_type": "stream",
          "name": "stdout",
          "text": [
            "[[5, 3, 0, 0, 0, 0, 0, 0, 0], [6, 0, 0, 1, 9, 5, 0, 0, 0], [0, 9, 8, 0, 0, 0, 0, 6, 0], [8, 0, 0, 0, 6, 0, 0, 0, 3], [4, 0, 0, 0, 0, 0, 0, 0, 1], [7, 0, 0, 0, 0, 0, 0, 0, 0], [0, 6, 0, 0, 0, 0, 0, 8, 0], [0, 0, 0, 4, 1, 9, 0, 0, 0], [0, 0, 0, 0, 8, 0, 0, 0, 0]]\n"
          ]
        }
      ]
    },
    {
      "cell_type": "code",
      "source": [
        "import re\n",
        " \n",
        "def number_to_words(item):\n",
        "   \n",
        "    number_to_words = {\n",
        "        '1': 'a',\n",
        "        '2': 'b',\n",
        "        '3': 'c',\n",
        "        '4': 'd',\n",
        "        '5': 'e',\n",
        "        '6': 'f',\n",
        "        '7': 'g',\n",
        "        '8': 'h',\n",
        "        '9': 'i',\n",
        "        '0': 'nan'\n",
        "    }\n",
        "    pattern = re.compile(r'\\b(' + '|'.join(number_to_words.keys()) + r')\\b')\n",
        "    convert=(re.sub(pattern, lambda x: number_to_words[x.group()], item))\n",
        "    return convert"
      ],
      "metadata": {
        "id": "MgdGSVqZj9SF"
      },
      "execution_count": 355,
      "outputs": []
    },
    {
      "cell_type": "code",
      "source": [
        "def prettify():\n",
        "    print(\"Output: \")\n",
        "    global gridNew\n",
        "    j = 0\n",
        "    for row in gridNew:\n",
        "        i = 0\n",
        "        j+=1\n",
        "        for item in row:\n",
        "            i+=1\n",
        "            print(f\" {item} \", end='')\n",
        "            if i % 3 == 0 and i <9:\n",
        "                print (\" | \", end='')\n",
        "        print()\n",
        "        if j % 3 ==0 and j <9:    \n",
        "            print('-'*33)\n",
        "\n",
        "prettify()"
      ],
      "metadata": {
        "colab": {
          "base_uri": "https://localhost:8080/"
        },
        "id": "GK3JPZ0YZ7uC",
        "outputId": "8874adcd-14b6-4fdf-8a6e-9a5fde2536f8"
      },
      "execution_count": 358,
      "outputs": [
        {
          "output_type": "stream",
          "name": "stdout",
          "text": [
            "Output: \n",
            " 5  3  0  |  0  0  0  |  0  0  0 \n",
            " 6  0  0  |  1  9  5  |  0  0  0 \n",
            " 0  9  8  |  0  0  0  |  0  6  0 \n",
            "---------------------------------\n",
            " 8  0  0  |  0  6  0  |  0  0  3 \n",
            " 4  0  0  |  0  0  0  |  0  0  1 \n",
            " 7  0  0  |  0  0  0  |  0  0  0 \n",
            "---------------------------------\n",
            " 0  6  0  |  0  0  0  |  0  8  0 \n",
            " 0  0  0  |  4  1  9  |  0  0  0 \n",
            " 0  0  0  |  0  8  0  |  0  0  0 \n"
          ]
        }
      ]
    },
    {
      "cell_type": "code",
      "source": [
        "def possible(y,x,n):\n",
        "    \n",
        "    for i in range(9):\n",
        "        if gridNew[y][i] == n:\n",
        "            return False\n",
        "    for i in range(9):\n",
        "        if gridNew[i][x] == n:\n",
        "            return False\n",
        "    x0 = (x//3)*3\n",
        "    y0 = (y//3)*3\n",
        "    \n",
        "    for i in range(3):\n",
        "        for j in range(3):\n",
        "            if gridNew[y0+i][x0+j] == n:\n",
        "                return False\n",
        "    return True"
      ],
      "metadata": {
        "id": "_VolnT8ZnvPz"
      },
      "execution_count": 359,
      "outputs": []
    },
    {
      "cell_type": "code",
      "source": [
        "possible(0,2,1)"
      ],
      "metadata": {
        "colab": {
          "base_uri": "https://localhost:8080/"
        },
        "id": "YsZqgG0udxcO",
        "outputId": "bf45f9c6-dcc8-4b23-d5af-f46c01c7d060"
      },
      "execution_count": 314,
      "outputs": [
        {
          "output_type": "execute_result",
          "data": {
            "text/plain": [
              "True"
            ]
          },
          "metadata": {},
          "execution_count": 314
        }
      ]
    },
    {
      "cell_type": "code",
      "source": [
        "print(gridNew)"
      ],
      "metadata": {
        "colab": {
          "base_uri": "https://localhost:8080/"
        },
        "id": "8FUhtP90isnJ",
        "outputId": "421f278f-1fd9-4094-d4e1-b679312725a8"
      },
      "execution_count": 334,
      "outputs": [
        {
          "output_type": "stream",
          "name": "stdout",
          "text": [
            "[[5, 3, 0, 0, 0, 0, 0, 0, 0], [6, 0, 0, 1, 9, 5, 0, 0, 0], [0, 9, 8, 0, 0, 0, 0, 6, 0], [8, 0, 0, 0, 6, 0, 0, 0, 3], [4, 0, 0, 0, 0, 0, 0, 0, 1], [7, 0, 0, 0, 0, 0, 0, 0, 0], [0, 6, 0, 0, 0, 0, 0, 8, 0], [0, 0, 0, 4, 1, 9, 0, 0, 0], [0, 0, 0, 0, 8, 0, 0, 0, 0]]\n"
          ]
        }
      ]
    },
    {
      "cell_type": "code",
      "source": [
        "def solve():\n",
        "    global gridNew\n",
        "    for y in range(9):\n",
        "        for x in range(9):\n",
        "            if gridNew[y][x] == 0:\n",
        "                for n in range(1,10):\n",
        "                    if possible(y,x,n):\n",
        "                        gridNew[y][x] = n\n",
        "                        print(gridNew[y][x])\n",
        "                        #solve()\n",
        "                        print(n)\n",
        "                        gridNew[y][x] = 0\n",
        "                return \n",
        "   # prettify()\n"
      ],
      "metadata": {
        "id": "EMZIR4JCd0EA"
      },
      "execution_count": 360,
      "outputs": []
    },
    {
      "cell_type": "code",
      "source": [
        "Grid=solve()\n",
        "print(Grid)"
      ],
      "metadata": {
        "id": "xsuHciund7ka"
      },
      "execution_count": null,
      "outputs": []
    },
    {
      "cell_type": "code",
      "source": [
        "print(number_to_words())"
      ],
      "metadata": {
        "id": "2227zT-jHkdz"
      },
      "execution_count": null,
      "outputs": []
    }
  ]
}